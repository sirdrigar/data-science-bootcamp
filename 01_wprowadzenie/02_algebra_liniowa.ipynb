{
  "nbformat": 4,
  "nbformat_minor": 0,
  "metadata": {
    "colab": {
      "provenance": [],
      "authorship_tag": "ABX9TyOSCcAvui7oiJ/XUbM2HYuf",
      "include_colab_link": true
    },
    "kernelspec": {
      "name": "python3",
      "display_name": "Python 3"
    },
    "language_info": {
      "name": "python"
    }
  },
  "cells": [
    {
      "cell_type": "markdown",
      "metadata": {
        "id": "view-in-github",
        "colab_type": "text"
      },
      "source": [
        "<a href=\"https://colab.research.google.com/github/sirdrigar/data-science-bootcamp/blob/main/01_wprowadzenie/02_algebra_liniowa.ipynb\" target=\"_parent\"><img src=\"https://colab.research.google.com/assets/colab-badge.svg\" alt=\"Open In Colab\"/></a>"
      ]
    },
    {
      "cell_type": "code",
      "execution_count": 9,
      "metadata": {
        "colab": {
          "base_uri": "https://localhost:8080/",
          "height": 35
        },
        "id": "hpjSdwlLJ59P",
        "outputId": "c91d833e-6c6b-4da9-b956-50d8f9dad1ab"
      },
      "outputs": [
        {
          "output_type": "execute_result",
          "data": {
            "text/plain": [
              "'1.21.6'"
            ],
            "application/vnd.google.colaboratory.intrinsic+json": {
              "type": "string"
            }
          },
          "metadata": {},
          "execution_count": 9
        }
      ],
      "source": [
        "import numpy as np\n",
        "np.__version__"
      ]
    },
    {
      "cell_type": "markdown",
      "source": [
        "### Norma wektora, długość wektora w $R^2$"
      ],
      "metadata": {
        "id": "2WW-aSYU9RWY"
      }
    },
    {
      "cell_type": "code",
      "source": [
        "v1 = np.array([0, 4])\n",
        "v1"
      ],
      "metadata": {
        "id": "4GGwMZgI9mfb",
        "outputId": "78e20420-dc16-413f-ba15-e865b2528957",
        "colab": {
          "base_uri": "https://localhost:8080/"
        }
      },
      "execution_count": 10,
      "outputs": [
        {
          "output_type": "execute_result",
          "data": {
            "text/plain": [
              "array([0, 4])"
            ]
          },
          "metadata": {},
          "execution_count": 10
        }
      ]
    },
    {
      "cell_type": "code",
      "source": [
        "np.linalg.norm(v1)"
      ],
      "metadata": {
        "id": "n4jInPWCAxTH",
        "outputId": "7f0b6771-cf33-4549-92e8-c2aee76cd1d9",
        "colab": {
          "base_uri": "https://localhost:8080/"
        }
      },
      "execution_count": 11,
      "outputs": [
        {
          "output_type": "execute_result",
          "data": {
            "text/plain": [
              "4.0"
            ]
          },
          "metadata": {},
          "execution_count": 11
        }
      ]
    },
    {
      "cell_type": "markdown",
      "source": [
        "##Norma euklidesowa w $R^n$"
      ],
      "metadata": {
        "id": "JdPyyNtuBDEh"
      }
    },
    {
      "cell_type": "code",
      "source": [
        "v2 = np.array([-10, 10, 13])\n",
        "np.linalg.norm(v2)"
      ],
      "metadata": {
        "id": "ttGzewITBG1h",
        "outputId": "c2c73bc7-2fd1-4bdd-eabd-e65b8296d8bf",
        "colab": {
          "base_uri": "https://localhost:8080/"
        }
      },
      "execution_count": 12,
      "outputs": [
        {
          "output_type": "execute_result",
          "data": {
            "text/plain": [
              "19.209372712298546"
            ]
          },
          "metadata": {},
          "execution_count": 12
        }
      ]
    },
    {
      "cell_type": "markdown",
      "source": [
        "##Odległość dwóch punktów na płaszczyźnie"
      ],
      "metadata": {
        "id": "jVEK1ILcBx9f"
      }
    },
    {
      "cell_type": "code",
      "source": [
        "p = np.array([3, 0])\n",
        "q = np.array([0, 4])\n",
        "\n",
        "np.linalg.norm(p - q)"
      ],
      "metadata": {
        "id": "NyAJgltyBy4c",
        "outputId": "0582bd28-0505-477d-f224-f90b9ebca94c",
        "colab": {
          "base_uri": "https://localhost:8080/"
        }
      },
      "execution_count": 13,
      "outputs": [
        {
          "output_type": "execute_result",
          "data": {
            "text/plain": [
              "5.0"
            ]
          },
          "metadata": {},
          "execution_count": 13
        }
      ]
    },
    {
      "cell_type": "markdown",
      "source": [
        "##Odległość dwóch punktów w przestrzeni $R^n$"
      ],
      "metadata": {
        "id": "2ac2htfWCZYZ"
      }
    },
    {
      "cell_type": "code",
      "source": [
        "p = np.array([3, 0, 1])\n",
        "q = np.array([0, 4, 2])\n",
        "\n",
        "np.linalg.norm(p - q)"
      ],
      "metadata": {
        "id": "-uNAPGWcCcWb",
        "outputId": "b110ddae-3426-4055-c4c9-36db4e3a1ca3",
        "colab": {
          "base_uri": "https://localhost:8080/"
        }
      },
      "execution_count": 14,
      "outputs": [
        {
          "output_type": "execute_result",
          "data": {
            "text/plain": [
              "5.0990195135927845"
            ]
          },
          "metadata": {},
          "execution_count": 14
        }
      ]
    },
    {
      "cell_type": "markdown",
      "source": [
        "##Mnożenie macierzy"
      ],
      "metadata": {
        "id": "3yndAiT_PeZJ"
      }
    },
    {
      "cell_type": "markdown",
      "source": [
        "###Przykład 1"
      ],
      "metadata": {
        "id": "3bGZ3ASNTjjT"
      }
    },
    {
      "cell_type": "code",
      "source": [
        "X = np.array([[5, 3], [3, 9]])\n",
        "Y = np.array([[1], [-1]])\n",
        "print(X, '\\n')\n",
        "print(Y)"
      ],
      "metadata": {
        "id": "H4sV-DM3Pg5t",
        "outputId": "003c4852-b324-4c76-b786-80d3b33ab630",
        "colab": {
          "base_uri": "https://localhost:8080/"
        }
      },
      "execution_count": 20,
      "outputs": [
        {
          "output_type": "stream",
          "name": "stdout",
          "text": [
            "[[5 3]\n",
            " [3 9]] \n",
            "\n",
            "[[ 1]\n",
            " [-1]]\n"
          ]
        }
      ]
    },
    {
      "cell_type": "code",
      "source": [
        "# mnożenie\n",
        "#X @ Y\n",
        "z = np.dot(X, Y)\n",
        "z"
      ],
      "metadata": {
        "id": "zuhtxCc6R2xI",
        "outputId": "31956129-acb6-44ee-d629-819c5b6a0fd8",
        "colab": {
          "base_uri": "https://localhost:8080/"
        }
      },
      "execution_count": 28,
      "outputs": [
        {
          "output_type": "execute_result",
          "data": {
            "text/plain": [
              "array([[ 2],\n",
              "       [-6]])"
            ]
          },
          "metadata": {},
          "execution_count": 28
        }
      ]
    },
    {
      "cell_type": "code",
      "source": [
        "z.shape"
      ],
      "metadata": {
        "id": "6YrVyPuqSL7g",
        "outputId": "aac31aec-e013-4ca8-ab72-5fe2e6366587",
        "colab": {
          "base_uri": "https://localhost:8080/"
        }
      },
      "execution_count": 29,
      "outputs": [
        {
          "output_type": "execute_result",
          "data": {
            "text/plain": [
              "(2, 1)"
            ]
          },
          "metadata": {},
          "execution_count": 29
        }
      ]
    },
    {
      "cell_type": "markdown",
      "source": [
        "### Przykład 2"
      ],
      "metadata": {
        "id": "kcP6phUQTn2H"
      }
    },
    {
      "cell_type": "code",
      "source": [
        "X = np.array([[2, -1, 3],\n",
        "              [3, 1, 0]])\n",
        "Y = np.array([[2, 1, -1],\n",
        "              [0, -1, 2],\n",
        "              [3, 2, 0]])\n",
        "\n",
        "print(X, '\\n')\n",
        "print(Y)"
      ],
      "metadata": {
        "id": "Xz2Shf_bTp3r",
        "outputId": "5ca6cbce-7015-46c4-c1a6-6414ad069bca",
        "colab": {
          "base_uri": "https://localhost:8080/"
        }
      },
      "execution_count": 30,
      "outputs": [
        {
          "output_type": "stream",
          "name": "stdout",
          "text": [
            "[[ 2 -1  3]\n",
            " [ 3  1  0]] \n",
            "\n",
            "[[ 2  1 -1]\n",
            " [ 0 -1  2]\n",
            " [ 3  2  0]]\n"
          ]
        }
      ]
    },
    {
      "cell_type": "code",
      "source": [
        "z = X @ Y\n",
        "z"
      ],
      "metadata": {
        "id": "jeyu9u_YUPLw",
        "outputId": "d4b68cf6-de38-4f84-baaf-7520363ed735",
        "colab": {
          "base_uri": "https://localhost:8080/"
        }
      },
      "execution_count": 31,
      "outputs": [
        {
          "output_type": "execute_result",
          "data": {
            "text/plain": [
              "array([[13,  9, -4],\n",
              "       [ 6,  2, -1]])"
            ]
          },
          "metadata": {},
          "execution_count": 31
        }
      ]
    },
    {
      "cell_type": "code",
      "source": [
        "z.shape"
      ],
      "metadata": {
        "id": "REBUzFRaVJeP",
        "outputId": "9b11c07a-4f33-4b7c-d6ad-633c193f5dc1",
        "colab": {
          "base_uri": "https://localhost:8080/"
        }
      },
      "execution_count": 32,
      "outputs": [
        {
          "output_type": "execute_result",
          "data": {
            "text/plain": [
              "(2, 3)"
            ]
          },
          "metadata": {},
          "execution_count": 32
        }
      ]
    },
    {
      "cell_type": "markdown",
      "source": [
        "##Wyznacznik macierzy"
      ],
      "metadata": {
        "id": "VF_seZERVfPF"
      }
    },
    {
      "cell_type": "code",
      "source": [
        "A = np.array([[2, 4], [-1, 3]])\n",
        "round(np.linalg.det(A))"
      ],
      "metadata": {
        "id": "panZ35wSV2FD",
        "outputId": "701f0fd0-3562-48c2-f190-3ae53a4ca89f",
        "colab": {
          "base_uri": "https://localhost:8080/"
        }
      },
      "execution_count": 36,
      "outputs": [
        {
          "output_type": "execute_result",
          "data": {
            "text/plain": [
              "10"
            ]
          },
          "metadata": {},
          "execution_count": 36
        }
      ]
    },
    {
      "cell_type": "markdown",
      "source": [
        "##Ślad macierzy"
      ],
      "metadata": {
        "id": "N1e8KU9xXM-1"
      }
    },
    {
      "cell_type": "code",
      "source": [
        "A = np.array([[2, 4], [-1, 3]])\n",
        "np.trace(A)"
      ],
      "metadata": {
        "id": "3qXwl6ndXVVH",
        "outputId": "3cda449d-3359-4f20-b724-723fa7e64979",
        "colab": {
          "base_uri": "https://localhost:8080/"
        }
      },
      "execution_count": 37,
      "outputs": [
        {
          "output_type": "execute_result",
          "data": {
            "text/plain": [
              "5"
            ]
          },
          "metadata": {},
          "execution_count": 37
        }
      ]
    },
    {
      "cell_type": "markdown",
      "source": [
        "##Macierz jednostkowa"
      ],
      "metadata": {
        "id": "63Bu5jOlXbaa"
      }
    },
    {
      "cell_type": "markdown",
      "source": [
        "Macierz jednostkowa - macierz kwadratowa, w której spółczynniki na przekątnej są równe 1"
      ],
      "metadata": {
        "id": "_Bzawk5IXg_P"
      }
    },
    {
      "cell_type": "code",
      "source": [
        "np.eye(5, dtype='int') # generuje macierz jednostkową stopnia n"
      ],
      "metadata": {
        "id": "pwvVX4xcXs8Y",
        "outputId": "23e0026e-da69-449d-99b7-fba7b08f0976",
        "colab": {
          "base_uri": "https://localhost:8080/"
        }
      },
      "execution_count": 38,
      "outputs": [
        {
          "output_type": "execute_result",
          "data": {
            "text/plain": [
              "array([[1, 0, 0, 0, 0],\n",
              "       [0, 1, 0, 0, 0],\n",
              "       [0, 0, 1, 0, 0],\n",
              "       [0, 0, 0, 1, 0],\n",
              "       [0, 0, 0, 0, 1]])"
            ]
          },
          "metadata": {},
          "execution_count": 38
        }
      ]
    },
    {
      "cell_type": "markdown",
      "source": [
        "##Macierz odwrotna"
      ],
      "metadata": {
        "id": "NeBO6UNOYHP7"
      }
    },
    {
      "cell_type": "markdown",
      "source": [
        "Takie macierze gdzie A @ B i B @ A muszą dawać macierz jednostkową"
      ],
      "metadata": {
        "id": "zecS00VFZC_S"
      }
    },
    {
      "cell_type": "code",
      "source": [
        "A"
      ],
      "metadata": {
        "id": "zIDnF6wDYRPp",
        "outputId": "387ff7e7-bc2a-4b51-b153-6dcc00bf2b4c",
        "colab": {
          "base_uri": "https://localhost:8080/"
        }
      },
      "execution_count": 39,
      "outputs": [
        {
          "output_type": "execute_result",
          "data": {
            "text/plain": [
              "array([[ 2,  4],\n",
              "       [-1,  3]])"
            ]
          },
          "metadata": {},
          "execution_count": 39
        }
      ]
    },
    {
      "cell_type": "code",
      "source": [
        "B = np.linalg.inv(A) #wyznaczenie macierzy odwrotnej\n",
        "B"
      ],
      "metadata": {
        "id": "xkvwO3DbYXC7",
        "outputId": "73bc4b5f-1ad2-48c2-c208-4f91e8e9904e",
        "colab": {
          "base_uri": "https://localhost:8080/"
        }
      },
      "execution_count": 42,
      "outputs": [
        {
          "output_type": "execute_result",
          "data": {
            "text/plain": [
              "array([[ 0.3, -0.4],\n",
              "       [ 0.1,  0.2]])"
            ]
          },
          "metadata": {},
          "execution_count": 42
        }
      ]
    },
    {
      "cell_type": "code",
      "source": [
        "np.set_printoptions(precision=4, suppress=True)\n",
        "np.dot(A, B)"
      ],
      "metadata": {
        "id": "bP79h44XYxkL",
        "outputId": "1e9324ff-91db-4b81-d976-945e89df4041",
        "colab": {
          "base_uri": "https://localhost:8080/"
        }
      },
      "execution_count": 46,
      "outputs": [
        {
          "output_type": "execute_result",
          "data": {
            "text/plain": [
              "array([[1., 0.],\n",
              "       [0., 1.]])"
            ]
          },
          "metadata": {},
          "execution_count": 46
        }
      ]
    },
    {
      "cell_type": "code",
      "source": [
        "np.dot(B, A)"
      ],
      "metadata": {
        "id": "KMHQmECKZR7i",
        "outputId": "32a84550-d503-47f0-b4bf-8cfb2b096a70",
        "colab": {
          "base_uri": "https://localhost:8080/"
        }
      },
      "execution_count": 48,
      "outputs": [
        {
          "output_type": "execute_result",
          "data": {
            "text/plain": [
              "array([[ 1., -0.],\n",
              "       [ 0.,  1.]])"
            ]
          },
          "metadata": {},
          "execution_count": 48
        }
      ]
    },
    {
      "cell_type": "markdown",
      "source": [
        "##Macierz transponowana"
      ],
      "metadata": {
        "id": "XXNEHfP_ZXaC"
      }
    },
    {
      "cell_type": "markdown",
      "source": [
        "Zamiana wierszy na kolumny i kolumn na wiersze"
      ],
      "metadata": {
        "id": "3DeFdJU7ZcWy"
      }
    },
    {
      "cell_type": "code",
      "source": [
        "A"
      ],
      "metadata": {
        "id": "NmRjphTIZgHA",
        "outputId": "99458db5-b11b-47f7-9add-cbd272c4a43f",
        "colab": {
          "base_uri": "https://localhost:8080/"
        }
      },
      "execution_count": 49,
      "outputs": [
        {
          "output_type": "execute_result",
          "data": {
            "text/plain": [
              "array([[ 2,  4],\n",
              "       [-1,  3]])"
            ]
          },
          "metadata": {},
          "execution_count": 49
        }
      ]
    },
    {
      "cell_type": "code",
      "source": [
        "#np.transpose(A)\n",
        "A.T"
      ],
      "metadata": {
        "id": "bmBlEOz6Z07w",
        "outputId": "21c1f1a4-9879-46d2-9542-52d11546e9c0",
        "colab": {
          "base_uri": "https://localhost:8080/"
        }
      },
      "execution_count": 51,
      "outputs": [
        {
          "output_type": "execute_result",
          "data": {
            "text/plain": [
              "array([[ 2, -1],\n",
              "       [ 4,  3]])"
            ]
          },
          "metadata": {},
          "execution_count": 51
        }
      ]
    },
    {
      "cell_type": "markdown",
      "source": [
        "##Rozwiązywanie układów rónań"
      ],
      "metadata": {
        "id": "jKobQROsaEOt"
      }
    },
    {
      "cell_type": "markdown",
      "source": [
        "Jeśli macierz układu A jest macierzą kwadratową, to oznaczoność układu jest równoważna jej odwracalności, tzn.\n",
        "\n",
        "                      AX = B\n",
        "                      A^-1AX = A^-1B\n",
        "                      X = A^-1B"
      ],
      "metadata": {
        "id": "sfzAei2BeYpo"
      }
    },
    {
      "cell_type": "code",
      "source": [
        "# 2x + 4y = 10      2 4    x   10\n",
        "# x - y = -1        1 -1   y    -1\n",
        "# x =1\n",
        "#y = 2\n",
        "A = np.array([[2, 4], [1, -1]])\n",
        "B = np.array([[10],[-1]])\n",
        "print(A, '\\n')\n",
        "print(B)"
      ],
      "metadata": {
        "id": "3tn2jGnvaHnx",
        "outputId": "d545f484-f435-4c06-a042-8f29d37f531b",
        "colab": {
          "base_uri": "https://localhost:8080/"
        }
      },
      "execution_count": 67,
      "outputs": [
        {
          "output_type": "stream",
          "name": "stdout",
          "text": [
            "[[ 2  4]\n",
            " [ 1 -1]] \n",
            "\n",
            "[[10]\n",
            " [-1]]\n"
          ]
        }
      ]
    },
    {
      "cell_type": "code",
      "source": [
        "A_inv = np.linalg.inv(A)\n",
        "A_inv"
      ],
      "metadata": {
        "id": "VBJSTNPngGD5",
        "outputId": "30d45476-edc1-4db2-e250-d24ac4ea7e46",
        "colab": {
          "base_uri": "https://localhost:8080/"
        }
      },
      "execution_count": 72,
      "outputs": [
        {
          "output_type": "execute_result",
          "data": {
            "text/plain": [
              "array([[ 0.1667,  0.6667],\n",
              "       [ 0.1667, -0.3333]])"
            ]
          },
          "metadata": {},
          "execution_count": 72
        }
      ]
    },
    {
      "cell_type": "code",
      "source": [
        "A @ A_inv"
      ],
      "metadata": {
        "id": "vyhQ2_wLgvqh",
        "outputId": "acbd4e20-262e-42d4-c465-a2c06df1d1c5",
        "colab": {
          "base_uri": "https://localhost:8080/"
        }
      },
      "execution_count": 73,
      "outputs": [
        {
          "output_type": "execute_result",
          "data": {
            "text/plain": [
              "array([[1., 0.],\n",
              "       [0., 1.]])"
            ]
          },
          "metadata": {},
          "execution_count": 73
        }
      ]
    },
    {
      "cell_type": "code",
      "source": [
        "#np.linalg.inv(A) @ B  <- odwrotnosc A @ B\n",
        "X = A_inv @ B\n",
        "X  # x = 1, y =2"
      ],
      "metadata": {
        "id": "GtVjDhX2gy8R",
        "outputId": "effffa65-fb6a-4e42-ebff-54fe0052b7c4",
        "colab": {
          "base_uri": "https://localhost:8080/"
        }
      },
      "execution_count": 74,
      "outputs": [
        {
          "output_type": "execute_result",
          "data": {
            "text/plain": [
              "array([[1.],\n",
              "       [2.]])"
            ]
          },
          "metadata": {},
          "execution_count": 74
        }
      ]
    }
  ]
}